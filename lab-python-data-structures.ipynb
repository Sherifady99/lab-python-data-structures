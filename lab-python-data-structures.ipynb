{
 "cells": [
  {
   "cell_type": "markdown",
   "metadata": {
    "tags": []
   },
   "source": [
    "# Lab | Data Structures "
   ]
  },
  {
   "cell_type": "markdown",
   "metadata": {},
   "source": [
    "## Exercise: Managing Customer Orders\n",
    "\n",
    "As part of a business venture, you are starting an online store that sells various products. To ensure smooth operations, you need to develop a program that manages customer orders and inventory.\n",
    "\n",
    "Follow the steps below to complete the exercise:\n",
    "\n",
    "1. Define a list called `products` that contains the following items: \"t-shirt\", \"mug\", \"hat\", \"book\", \"keychain\".\n",
    "\n",
    "2. Create an empty dictionary called `inventory`.\n",
    "\n",
    "3. Ask the user to input the quantity of each product available in the inventory. Use the product names from the `products` list as keys in the `inventory` dictionary and assign the respective quantities as values.\n",
    "\n",
    "4. Create an empty set called `customer_orders`.\n",
    "\n",
    "5. Ask the user to input the name of three products that a customer wants to order (from those in the products list, meaning three products out of \"t-shirt\", \"mug\", \"hat\", \"book\" or \"keychain\". Add each product name to the `customer_orders` set.\n",
    "\n",
    "6. Print the products in the `customer_orders` set.\n",
    "\n",
    "7. Calculate the following order statistics:\n",
    "   - Total Products Ordered: The total number of products in the `customer_orders` set.\n",
    "   - Percentage of Products Ordered: The percentage of products ordered compared to the total available products.\n",
    "   \n",
    "   Store these statistics in a tuple called `order_status`.\n",
    "\n",
    "8. Print the order statistics using the following format:\n",
    "   ```\n",
    "   Order Statistics:\n",
    "   Total Products Ordered: <total_products_ordered>\n",
    "   Percentage of Products Ordered: <percentage_ordered>% \n",
    "   ```\n",
    "\n",
    "9. Update the inventory by subtracting 1 from the quantity of each product. Modify the `inventory` dictionary accordingly.\n",
    "\n",
    "10. Print the updated inventory, displaying the quantity of each product on separate lines.\n",
    "\n",
    "Solve the exercise by implementing the steps using the Python concepts of lists, dictionaries, sets, and basic input/output operations. "
   ]
  },
  {
   "cell_type": "code",
   "execution_count": 4,
   "metadata": {},
   "outputs": [],
   "source": [
    "# Step 1 - Creating list\n",
    "\n",
    "products = [\"t-shirt\", \"mug\", \"hat\", \"book\", \"keychain\"]"
   ]
  },
  {
   "cell_type": "code",
   "execution_count": 2,
   "metadata": {},
   "outputs": [],
   "source": [
    "# Step 2 - Creating empty dictionary\n",
    "inventory = {}"
   ]
  },
  {
   "cell_type": "code",
   "execution_count": 42,
   "metadata": {},
   "outputs": [],
   "source": [
    "# Step 3 Asking for inventory input\n",
    "\n",
    "tshirt_quanity = int(input(\"How many t-shirts do you have in inventory?:\"))  \n",
    "mug_quantity = int(input(\"How many mugs do you have in inventory?\"))\n",
    "book_quantity= int(input(\"How many books do you have in inventory?\"))\n",
    "hat_quantity= int(input(\"How many hats do you have in inventory?\"))\n",
    "keychain_quantity= int(input(\"How many keychain do you have in inventory?\"))"
   ]
  },
  {
   "cell_type": "code",
   "execution_count": 116,
   "metadata": {},
   "outputs": [
    {
     "name": "stdout",
     "output_type": "stream",
     "text": [
      "{'t-shirts': 5, 'mugs': 3, 'books': 6, 'hats': 8, 'keychains': 10}\n"
     ]
    }
   ],
   "source": [
    "inventory = {'t-shirts': tshirt_quanity, 'mugs': mug_quantity, 'books': book_quantity, 'hats': hat_quantity, 'keychains': keychain_quantity}\n",
    "\n",
    "print(inventory)"
   ]
  },
  {
   "cell_type": "code",
   "execution_count": 135,
   "metadata": {},
   "outputs": [],
   "source": [
    "# Step 4 Creating Empty Set\n",
    "\n",
    "customer_orders = set()"
   ]
  },
  {
   "cell_type": "code",
   "execution_count": 138,
   "metadata": {},
   "outputs": [],
   "source": [
    "order_1 = input(\"Please input your first product:\").lower() + \"s\"\n",
    "order_2 = input(\"Please input your second product:\").lower() + \"s\"\n",
    "order_3 = input(\"Please input your third product:\").lower() + \"s\""
   ]
  },
  {
   "cell_type": "code",
   "execution_count": 139,
   "metadata": {},
   "outputs": [
    {
     "name": "stdout",
     "output_type": "stream",
     "text": [
      "{'mugs', 't-shirts', 'keychains'}\n"
     ]
    }
   ],
   "source": [
    "# Step 5 & 6\n",
    "\n",
    "customer_orders = {order_1, order_2, order_3}\n",
    "\n",
    "print(customer_orders)"
   ]
  },
  {
   "cell_type": "code",
   "execution_count": 140,
   "metadata": {},
   "outputs": [
    {
     "name": "stdout",
     "output_type": "stream",
     "text": [
      "3 orders\n"
     ]
    }
   ],
   "source": [
    "# Step 7 - Calculations\n",
    "\n",
    "customer_order_length = len(customer_orders)\n",
    "print(len(customer_orders), \"orders\")\n",
    "\n",
    "#Calculating percentage\n",
    "\n",
    "total_products_ordered = sum(inventory.values())\n",
    "percentage_ordered = (customer_order_length / total_products_ordered) * 100"
   ]
  },
  {
   "cell_type": "code",
   "execution_count": 141,
   "metadata": {},
   "outputs": [
    {
     "name": "stdout",
     "output_type": "stream",
     "text": [
      "Total Products Ordered: 3\n",
      "Percentage of Products Ordered: 10.34 %\n"
     ]
    }
   ],
   "source": [
    "# Step 8 - Printing our results\n",
    "\n",
    "print(f\"Total Products Ordered: {customer_order_length}\")\n",
    "print(\"Percentage of Products Ordered:\",round(percentage_ordered, 2), \"%\")"
   ]
  },
  {
   "cell_type": "code",
   "execution_count": 143,
   "metadata": {},
   "outputs": [
    {
     "name": "stdout",
     "output_type": "stream",
     "text": [
      "Order has been placed, you now have 2 remaining mugs.\n",
      "Order has been placed, you now have 4 remaining t-shirts.\n",
      "Order has been placed, you now have 9 remaining keychains.\n",
      "Full remaining inventory is below:\n",
      "t-shirts: 4\n",
      "mugs: 2\n",
      "books: 6\n",
      "hats: 8\n",
      "keychains: 9\n"
     ]
    }
   ],
   "source": [
    "# Step 9 - Modifying the inventory\n",
    "\n",
    "customer_orders = {order_1, order_2, order_3}\n",
    "inventory = {'t-shirts': tshirt_quanity, 'mugs': mug_quantity, 'books': book_quantity, 'hats': hat_quantity, 'keychains': keychain_quantity}  # Adding this here to avoid inventory taking multiple deductions as I test the code.\n",
    "\n",
    "for order in customer_orders:\n",
    "    if order in inventory:\n",
    "        inventory[order] -= 1\n",
    "        print(f\"Order has been placed, you now have {inventory[order]} remaining {order}.\")\n",
    "\n",
    "# Step 10 - Printing new inventory on separate lines\n",
    "\n",
    "print(\"Full remaining inventory is below:\")\n",
    "for product, quantity in inventory.items():\n",
    "    print(f\"{product}: {quantity}\")"
   ]
  }
 ],
 "metadata": {
  "kernelspec": {
   "display_name": "base",
   "language": "python",
   "name": "python3"
  },
  "language_info": {
   "codemirror_mode": {
    "name": "ipython",
    "version": 3
   },
   "file_extension": ".py",
   "mimetype": "text/x-python",
   "name": "python",
   "nbconvert_exporter": "python",
   "pygments_lexer": "ipython3",
   "version": "3.12.7"
  }
 },
 "nbformat": 4,
 "nbformat_minor": 4
}
